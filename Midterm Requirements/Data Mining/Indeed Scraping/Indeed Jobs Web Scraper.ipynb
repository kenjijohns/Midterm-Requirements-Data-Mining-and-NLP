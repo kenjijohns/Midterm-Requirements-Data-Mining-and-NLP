{
  "cells": [
    {
      "cell_type": "code",
      "execution_count": 9,
      "metadata": {
        "id": "5BrvpoC27whx"
      },
      "outputs": [
        {
          "name": "stderr",
          "output_type": "stream",
          "text": [
            "C:\\Users\\kjson\\AppData\\Local\\Temp\\ipykernel_17080\\3760660255.py:24: DeprecationWarning: executable_path has been deprecated, please pass in a Service object\n",
            "  driver = webdriver.Chrome(\"chromedriver.exe\")\n"
          ]
        },
        {
          "name": "stdout",
          "output_type": "stream",
          "text": [
            "[*] Saving Data\n",
            "[*] Saving Data\n",
            "[*] Saving Data\n",
            "[*] Saving Data\n",
            "[*] Saving Data\n"
          ]
        },
        {
          "ename": "IndexError",
          "evalue": "string index out of range",
          "output_type": "error",
          "traceback": [
            "\u001b[1;31m---------------------------------------------------------------------------\u001b[0m",
            "\u001b[1;31mIndexError\u001b[0m                                Traceback (most recent call last)",
            "Cell \u001b[1;32mIn[9], line 77\u001b[0m\n\u001b[0;32m     74\u001b[0m \u001b[39mexcept\u001b[39;00m:\n\u001b[0;32m     75\u001b[0m     salary \u001b[39m=\u001b[39m \u001b[39m'\u001b[39m\u001b[39mNaN\u001b[39m\u001b[39m'\u001b[39m\n\u001b[1;32m---> 77\u001b[0m data \u001b[39m=\u001b[39m {\u001b[39m\"\u001b[39m\u001b[39mJob_Title\u001b[39m\u001b[39m\"\u001b[39m: title[\u001b[39m0\u001b[39m], \u001b[39m'\u001b[39m\u001b[39mCompany\u001b[39m\u001b[39m'\u001b[39m: cmpny[\u001b[39m0\u001b[39;49m], \u001b[39m'\u001b[39m\u001b[39mSalary\u001b[39m\u001b[39m'\u001b[39m: salary}\n\u001b[0;32m     78\u001b[0m Job_data\u001b[39m.\u001b[39mappend(data)\n\u001b[0;32m     79\u001b[0m \u001b[39mprint\u001b[39m(\u001b[39m'\u001b[39m\u001b[39m[*] Saving Data\u001b[39m\u001b[39m'\u001b[39m)\n",
            "\u001b[1;31mIndexError\u001b[0m: string index out of range"
          ]
        }
      ],
      "source": [
        "\n",
        "import pandas as pd\n",
        "import random\n",
        "import time\n",
        "import csv\n",
        "from parsel import Selector\n",
        "from time import sleep\n",
        "from selenium import webdriver\n",
        "from selenium.common.exceptions import NoSuchElementException\n",
        "from selenium.webdriver.common.by import By\n",
        "from selenium.webdriver.support.ui import WebDriverWait\n",
        "from selenium.webdriver.support import expected_conditions as EC\n",
        "from selenium.webdriver.chrome.options import Options\n",
        "from selenium.webdriver.common.keys import Keys\n",
        "\n",
        "chrome_options = Options()\n",
        "\n",
        "PROXY = \"103.196.136.158\" # Host Proxy\n",
        "\n",
        "chrome_options = webdriver.ChromeOptions()\n",
        "chrome_options.add_argument(f'--proxy-server={PROXY}')\n",
        "\n",
        "driver = webdriver.Chrome(\"chromedriver.exe\")\n",
        "\n",
        "Job_data = []\n",
        "\n",
        "for page in range(0,50,10):\n",
        "    \n",
        "    driver.get(f'https://ph.indeed.com/jobs?q=chief+technology+officer&l=Manila&start={page}') # Scrape other job title by changing values at \"q\" and changing location at \"l\"\n",
        "    time.sleep(random.uniform(8.5, 10.9))\n",
        "    \n",
        "    try:\n",
        "        close = driver.find_element(By.XPATH,'//button[@class = \"icl-CloseButton icl-Modal-close\"]')\n",
        "        close.click()\n",
        "    \n",
        "    except:\n",
        "        \n",
        "        pass\n",
        "    \n",
        "    jobs = driver.find_elements(By.XPATH,'//div[@class = \"css-1m4cuuf e37uo190\"]')\n",
        "    \n",
        "    \n",
        "    for job in jobs:\n",
        "        job.location_once_scrolled_into_view\n",
        "        job.click()\n",
        "        time.sleep(random.uniform(4.6, 6.9))\n",
        "        \n",
        "        # Extract job title\n",
        "        try:\n",
        "            Job_title = driver.find_element(By.XPATH,'//h2[@class = \"icl-u-xs-mb--xs icl-u-xs-mt--none jobsearch-JobInfoHeader-title is-embedded\"]').text.strip()\n",
        "            title = Job_title.split('\\n')\n",
        "        except NoSuchElementException:\n",
        "            try:\n",
        "                Job_title = driver.find_element(By.XPATH,'//div[@class=\"css-czdse3 eu4oa1w0\"]').text\n",
        "                title = Job_title.split('\\n')\n",
        "            except NoSuchElementException:\n",
        "                title = 'NaN'\n",
        "\n",
        "        \n",
        "        # Extract company name\n",
        "        try:\n",
        "            Company = driver.find_element(By.CSS_SELECTOR, 'a[href*=\"https://ph.indeed.com/cmp/\"]').text.strip()\n",
        "            cmpny = Company.split('\\n')\n",
        "        except:\n",
        "            cmpny = ''\n",
        "        \n",
        "\n",
        "        \n",
        "        # Extract salary\n",
        "        try:\n",
        "            Salary = driver.find_element(By.XPATH, '//div[@id = \"salaryInfoAndJobType\"]').text.strip()\n",
        "            salary = Salary.split('\\n')\n",
        "        except:\n",
        "            salary = 'NaN'\n",
        "        \n",
        "        data = {\"Job_Title\": title[0], 'Company': cmpny[0], 'Salary': salary}\n",
        "        Job_data.append(data)\n",
        "        print('[*] Saving Data')\n",
        "    \n",
        "df = pd.DataFrame(Job_data)\n",
        "df\n",
        "df.to_csv('Junior Level Jobs.csv', encoding='utf-8', index=False)\n",
        "    \n",
        "driver.quit()"
      ]
    }
  ],
  "metadata": {
    "colab": {
      "provenance": []
    },
    "kernelspec": {
      "display_name": "Python 3",
      "name": "python3"
    },
    "language_info": {
      "codemirror_mode": {
        "name": "ipython",
        "version": 3
      },
      "file_extension": ".py",
      "mimetype": "text/x-python",
      "name": "python",
      "nbconvert_exporter": "python",
      "pygments_lexer": "ipython3",
      "version": "3.9.5"
    }
  },
  "nbformat": 4,
  "nbformat_minor": 0
}
